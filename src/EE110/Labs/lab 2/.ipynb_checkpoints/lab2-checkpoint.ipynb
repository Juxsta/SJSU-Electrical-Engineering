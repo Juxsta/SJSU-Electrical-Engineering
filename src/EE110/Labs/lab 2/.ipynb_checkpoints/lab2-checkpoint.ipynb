{
 "cells": [
  {
   "cell_type": "code",
   "execution_count": 1,
   "metadata": {},
   "outputs": [
    {
     "name": "stdout",
     "output_type": "stream",
     "text": [
      "/Users/ericreyes/Documents/GitHub/SJSU-Electrical-Engineering/src\n"
     ]
    }
   ],
   "source": [
    "# Change directory to VSCode workspace root so that relative path loads work correctly. Turn this addition off with the DataScience.changeDirOnImportExport setting\n",
    "# ms-python.python added\n",
    "import os\n",
    "try:\n",
    "\tos.chdir(os.path.join(os.getcwd(), '../../..'))\n",
    "\tprint(os.getcwd())\n",
    "except:\n",
    "\tpass\n"
   ]
  },
  {
   "cell_type": "code",
   "execution_count": 2,
   "metadata": {},
   "outputs": [],
   "source": [
    "from sympy import *\n",
    "import sympy as sy\n",
    "from sympy.plotting import plot\n",
    "init_printing(use_unicode=False, wrap_line=False, no_global=True)\n",
    "\n"
   ]
  },
  {
   "cell_type": "code",
   "execution_count": 4,
   "metadata": {},
   "outputs": [
    {
     "name": "stdout",
     "output_type": "stream",
     "text": [
      "Tau*exp(t/Tau)\n"
     ]
    }
   ],
   "source": [
    "t,Tau = symbols ('t, Tau')\n",
    "print(integrate(sy.exp(t/Tau),t))\n"
   ]
  },
  {
   "cell_type": "markdown",
   "metadata": {},
   "source": [
    " ## Plot for Step Response of a low pass filter\n",
    " $ h(t) = \\frac{1}{RC} \\times e^{\\frac{t}{RC}} $"
   ]
  },
  {
   "cell_type": "code",
   "execution_count": 9,
   "metadata": {},
   "outputs": [
    {
     "data": {
      "image/png": "[encoded data removed]",
      "text/plain": [
       "<Figure size 432x288 with 1 Axes>"
      ]
     },
     "metadata": {
      "needs_background": "light"
     },
     "output_type": "display_data"
    },
    {
     "data": {
      "text/plain": [
       "<sympy.plotting.plot.Plot at 0x11f7c3240>"
      ]
     },
     "execution_count": 9,
     "metadata": {},
     "output_type": "execute_result"
    }
   ],
   "source": [
    "Tau,t = symbols('Tau, t')\n",
    "h = sy.exp(-t/Tau)\n",
    "h = h.subs(Tau,1)\n",
    "plot(h,(t,0,5),title=f\"High Pass Filter Step Response\\ny_ste{h}\")\n",
    "\n"
   ]
  },
  {
   "cell_type": "code",
   "execution_count": 6,
   "metadata": {},
   "outputs": [
    {
     "name": "stdout",
     "output_type": "stream",
     "text": [
      "1 - exp(-t)\n"
     ]
    },
    {
     "data": {
      "image/png": "[encoded data removed]",
      "text/plain": [
       "<Figure size 432x288 with 1 Axes>"
      ]
     },
     "metadata": {
      "needs_background": "light"
     },
     "output_type": "display_data"
    },
    {
     "data": {
      "text/plain": [
       "<sympy.plotting.plot.Plot at 0x11f4d2748>"
      ]
     },
     "execution_count": 6,
     "metadata": {},
     "output_type": "execute_result"
    }
   ],
   "source": [
    "step = integrate(h,t) + 1\n",
    "print(step)\n",
    "plot(step.subs(Tau,1),(t,0,5))\n"
   ]
  },
  {
   "cell_type": "code",
   "execution_count": 0,
   "metadata": {},
   "outputs": [],
   "source": [
    "import numpy, math, matplotlib\n",
    "from pylab import *\n",
    "x0, y0, h, n = 0, 0, 5.0/10000., 10000 #initial conditions, step size, number of steps\n",
    "b = [y0] #place y0 in array\n",
    "B=[x0]\n",
    "for i in arange(0,n,1):\n",
    " xn, yn = x0 + i*h, y0\n",
    " y1 = y0 + (1-y0)*h\n",
    " y0 = y1\n",
    " b.append(y1)\n",
    " B.append(xn)\n",
    "L1=plot(B, b, linewidth=1.0)\n",
    "xlabel('time(s)')\n",
    "ylabel(' step')\n",
    "title('step response of low pass filter')\n",
    "show()"
   ]
  },
  {
   "cell_type": "markdown",
   "metadata": {},
   "source": [
    " $ h_{highpass}(t) = -1/{RC}e^{-t/{RC}} $"
   ]
  },
  {
   "cell_type": "code",
   "execution_count": 0,
   "metadata": {},
   "outputs": [],
   "source": [
    "t,tau = symbols('t,tau')\n",
    "\n",
    "h_high = lambda t:  -1*sy.exp(-t) + 1\n",
    "# h_high = h_high.subs(tau,1) \n",
    "print(h_high(t))\n",
    "plot(h_high(t),(t,0,5))\n",
    "\n",
    "\n"
   ]
  },
  {
   "cell_type": "code",
   "execution_count": 0,
   "metadata": {},
   "outputs": [],
   "source": [
    "u = lambda t: Heaviside(t-1e-9)\n",
    "x = symbols('x')\n",
    "h_step = integrate(h_high(t),(t,0,t))\n",
    "print(h_step)\n",
    "plot(h_step,(t,0,5))\n",
    "# plot(u(t),(t,-5,5))\n"
   ]
  },
  {
   "cell_type": "code",
   "execution_count": 0,
   "metadata": {},
   "outputs": [],
   "source": [
    "from sympy import *\n",
    "import sympy as sy\n",
    "from sympy.plotting import plot\n",
    "init_printing(use_unicode=False, wrap_line=False, no_global=True)\n",
    "t = symbols(\"t\", positive=True)\n",
    "x, Tau = symbols(\"x, Tau\", positive=True)\n",
    "# x will be the dummy variable\n",
    "R=1\n",
    "C=1\n",
    "H= integrate(1/Tau*sy.exp(-(t-x)/Tau),(x,0,t))\n",
    "print ('The step response is', H)\n",
    "#To plot, Tau can not be a symbol, it has to be a numenr in this case R=q and C=1.\n",
    "H1=integrate(1/R/C*sy.exp(-(t-x)/R/C),(x,0,t))\n",
    "plot(H1,(t,0,5),title='Step Response', xlabel='time(s)', ylabel='Step response') \n"
   ]
  },
  {
   "cell_type": "code",
   "execution_count": 0,
   "metadata": {},
   "outputs": [],
   "source": [
    "from sympy import *\n",
    "import sympy as sy\n",
    "from sympy.plotting import plot\n",
    "init_printing(use_unicode=False, wrap_line=False, no_global=True)\n",
    "t = symbols(\"t\", positive=True)\n",
    "x, Tau = symbols(\"x, Tau\", positive=True)\n",
    "# x will be the dummy variable\n",
    "R=1\n",
    "C=1\n",
    "H= integrate(1/Tau*sy.exp(-(t-x)/Tau),(x,0,t))\n",
    "# print 'The step response is', H\n",
    "#To plot, Tau can not be a symbol, it has to be a numenr in this case R=q and C=1.\n",
    "H1=integrate(h_high(-t-x),(x,0,t))\n",
    "plot(H1,(t,0,5),title='Step Response', xlabel='time(s)', ylabel='Step response') \n"
   ]
  },
  {
   "cell_type": "code",
   "execution_count": 0,
   "metadata": {},
   "outputs": [],
   "source": []
  }
 ],
 "metadata": {
  "file_extension": ".py",
  "kernelspec": {
   "display_name": "Python 3",
   "language": "python",
   "name": "python3"
  },
  "language_info": {
   "codemirror_mode": {
    "name": "ipython",
    "version": 3
   },
   "file_extension": ".py",
   "mimetype": "text/x-python",
   "name": "python",
   "nbconvert_exporter": "python",
   "pygments_lexer": "ipython3",
   "version": "3.7.3"
  },
  "mimetype": "text/x-python",
  "name": "python",
  "npconvert_exporter": "python",
  "pygments_lexer": "ipython3",
  "version": 3
 },
 "nbformat": 4,
 "nbformat_minor": 2
}
